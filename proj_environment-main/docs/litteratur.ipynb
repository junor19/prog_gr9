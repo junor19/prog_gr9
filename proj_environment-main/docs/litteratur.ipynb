{
 "cells": [
  {
   "cell_type": "markdown",
   "id": "90b521c8",
   "metadata": {},
   "source": [
    "## **Litteraturliste**\n",
    "3.4. Metrics and scoring: quantifying the quality of predictions — scikit-learn 1.6.1 documentation. https://scikit-learn.org/stable/modules/model_evaluation.html#regression-metrics\n",
    "\n",
    "About the Norwegian Meteorological Institute. (2017, October 2). Meteorologisk Institutt. https://www.met.no/en/About-us/About-MET-Norway\n",
    "\n",
    "Bhargawa, A., & Singh, A. K. (2019). Solar irradiance, climatic indicators and climate change – An empirical analysis. Advances in Space Research, 64(1), \n",
    "271–277. https://doi.org/10.1016/j.asr.2019.03.018\n",
    "\n",
    "Fagbuyiro, D. (2023, October 17). Using SQL with Pandas DataFrames. Medium. https://medium.com/@davidfagb/using-sql-with-pandas-dataframes-1c36f57ea65f\n",
    "\n",
    "GeeksforGeeks. (n.d.). Linechart in Matplotlib-Python. https://www.geeksforgeeks.org/line-chart-in-matplotlib-python/\n",
    "\n",
    "Haigh, J. (2011). Solar influences on Climate. Imperial College London. https://www.imperial.ac.uk/media/imperial-college/grantham-institute/public/publications/briefing-papers/Solar-Influences-on-Climate---Grantham-BP-5.pdf\n",
    "\n",
    "Matplotlib. (n.d.). Constrained layout guide. https://matplotlib.org/stable/users/explain/axes/constrainedlayout_guide.html\n",
    "\n",
    "Matplotlib. (n.d.). Plotting categorical variables. https://matplotlib.org/stable/gallery/lines_bars_and_markers/categorical_variables.html\n",
    "\n",
    "Matplotlib. (n.d.). Pyplot histogram. https://matplotlib.org/stable/api/_as_gen/matplotlib.pyplot.hist.html\n",
    "\n",
    "Meteorologisk Institutt. (n.d.). Frost API-dokumentasjon. https://frost.met.no/api.html | https://frost.met.no/python_example.html | https://frost.met.no/howto.html\n",
    "\n",
    "OpenAI. (n.d.). ChatGPT (GPT-4) [Stor språkmodell]. https://chat.openai.com/\n",
    "\n",
    "Pandas. (n.d.). Pandas brukerdokumentasjon. https://pandas.pydata.org/docs/user_guide/index.html | https://pandas.pydata.org/docs/user_guide/dsintro.\n",
    "html#dataframe | https://pandas.pydata.org/docs/user_guide/merging.html#concat\n",
    "\n",
    "Python. (n.d.). Linechart. https://python-graph-gallery.com/line-chart/\n",
    "\n",
    "Python. (n.d.). Matplotlib line linestyle. https://www.w3schools.com/python/matplotlib_line.asp\n",
    "\n",
    "Python. (n.d.). unittest. https://docs.python.org/3/library/unittest.html\n",
    "\n",
    "Rouhani, M. (2019). Applied Programming — Applied Programming. NTNU. https://rouhani.folk.ntnu.no/textbooks/tdt4114/intro.html\n",
    "\n",
    "Scikit-learn. (n.d.). Getting started with scikit-learn. https://scikit-learn.org/stable/getting_started.html\n",
    "\n",
    "Vilius Dumcius. (2024, November 5). JSON vs CSV: What’s the Difference? IPRoyal.com. https://iproyal.com/blog/json-vs-csv/\n",
    "\n",
    "W3Schools. (n.d.). Matplotlib - Intro og Subplots. https://www.w3schools.com/python/matplotlib_intro.asp | https://www.w3schools.com/python/matplotlib_subplot.asp\n",
    "\n",
    "W3Schools. (n.d.). Pandas - DataFrames og rengjøring. https://www.w3schools.com/python/pandas/pandas_dataframes.asp | https://www.w3schools.com/python/pandas/pandas_cleaning_duplicates.asp | https://www.w3schools.com/python/pandas/ref_df_median.asp | https://www.w3schools.com/python/pandas/pandas_csv.\n",
    "asp | https://www.w3schools.com/python/pandas/default.asp\n",
    "\n",
    "W3Schools. (n.d.). Python Requests-modul. https://www.w3schools.com/python/module_requests.asp\n",
    "\n",
    "Waskom, M. L. (2021). Seaborn: statistical data visualization. Journal of Open Source Software, 6(60), 3021. https://doi.org/10.21105/joss.03021\n",
    "\n",
    "What is Frost? (2019). Meteorologisk Institutt. https://frost.met.no/index.html\n"
   ]
  },
  {
   "cell_type": "markdown",
   "id": "4a82c9e9",
   "metadata": {},
   "source": [
    "**Gå til [README](../README.md)**"
   ]
  }
 ],
 "metadata": {
  "language_info": {
   "name": "python"
  }
 },
 "nbformat": 4,
 "nbformat_minor": 5
}
