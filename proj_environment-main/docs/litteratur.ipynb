{
 "cells": [
  {
   "cell_type": "markdown",
   "id": "90b521c8",
   "metadata": {},
   "source": [
    "## **Litteraturliste**\n",
    "*About the Norwegian Meteorological Institute.* (2017, October 2). Www.met.no; Meteorologisk Institutt. https://www.met.no/en/About-us/About-MET-Norway\n",
    "\n",
    "Bhargawa, A., & Singh, A. K. (2019). Solar irradiance, climatic indicators and climate change – An empirical analysis. *Advances in Space Research*, 64(1), 271–277. https://doi.org/10.1016/j.asr.2019.03.018\n",
    "\n",
    "OpenAI. (n.d.). *ChatGPT (GPT-4)* [Stor språkmodell]. https://chat.openai.com/\n",
    "\n",
    "Fagbuyiro, D. (2023, October 17). *Using SQL with Pandas DataFrames.* Medium. https://medium.com/@davidfagb/using-sql-with-pandas-dataframes-1c36f57ea65d\n",
    "\n",
    "Haigh, J. (2011). *Solar influences on Climate.* Imperial Collage London . https://www.imperial.ac.uk/media/imperial-college/grantham-institute/public/publications/briefing-papers/Solar-Influences-on-Climate---Grantham-BP-5.pdf?utm\n",
    "\n",
    "Rouhani, M. (2019). *Applied Programming — Applied Programming.* Ntnu.no. https://rouhani.folk.ntnu.no/textbooks/tdt4114/intro.html\n",
    "\n",
    "Vilius Dumcius. (2024, November 5). *JSON vs CSV: What’s the Difference?* IPRoyal.com; IPRoyal. https://iproyal.com/blog/json-vs-csv/\n",
    "\n",
    "W3Schools. (n.d.-a). *Pandas - Removing Duplicates.* Www.w3schools.com. https://www.w3schools.com/python/pandas/pandas_cleaning_duplicates.asp\n",
    "\n",
    "W3Schools. (n.d.-b). *Pandas DataFrames.* Www.w3schools.com. https://www.w3schools.com/python/pandas/pandas_dataframes.asp\n",
    "\n",
    "*What is Frost?* (2019). Frost.met.no; Meteorologisk Institutt. https://frost.met.no/index.html"
   ]
  },
  {
   "cell_type": "markdown",
   "id": "4a82c9e9",
   "metadata": {},
   "source": [
    "**Gå til [README](../README.md)**"
   ]
  }
 ],
 "metadata": {
  "language_info": {
   "name": "python"
  }
 },
 "nbformat": 4,
 "nbformat_minor": 5
}
