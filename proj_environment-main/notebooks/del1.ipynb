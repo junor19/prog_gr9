{
 "cells": [
  {
   "cell_type": "markdown",
   "id": "25f3e1f3",
   "metadata": {},
   "source": [
    "## Prosjekt del 1\n",
    "### Oppgave 1: Sett opp utviklingsmiljø\n",
    "Før dere begynner med datainnsamlingen, er det viktig å sette opp et utviklingsmiljø som vil støtte dere gjennom hele prosjektet. Denne oppgaven vil veilede dere i å opprette et prosjekt i GitHub, installere nødvendige verktøy og opprette en test Jupyter Notebook for å sikre at alt fungerer som det skal.\n",
    "\n",
    "Opprett et nytt «repository» på GitHub med et beskrivende navn for prosjektet (f.eks. “Miljødataanalyseapplikasjon”). Det skal opprettes en sentral repo for prosjektgruppen.\n",
    "\n",
    "Last ned og installer den nyeste versjonen av Python fra den offisielle nettsiden (https://www.python.org/downloads/). Sørg for at Python er lagt til i systemets PATH under installasjonen.\n",
    "\n",
    "Last ned og installer Visual Studio Code fra den offisielle nettsiden (https://code.visualstudio.com/). Åpne VSCode og installer nødvendige utvidelser for Python og Jupyter. Dette kan gjøres ved å gå til Extensions (Ctrl+Shift+X) og søke etter “Python” og “Jupyter”.\n",
    "\n",
    "Klon dette repoet til din lokale maskin ved hjelp av Git (eller utviklingsverktøyet ditt).\n",
    "\n",
    "I VSCode, opprett en ny Jupyter Notebook-fil (med filendelsen «.ipynb») i prosjektmappen. Skriv og kjør følgende kode i den første cellen for å teste at miljøet fungerer som det skal:\n",
    "\n"
   ]
  }
 ],
 "metadata": {
  "language_info": {
   "name": "python"
  }
 },
 "nbformat": 4,
 "nbformat_minor": 5
}
