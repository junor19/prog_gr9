{
 "cells": [
  {
   "cell_type": "markdown",
   "id": "25f3e1f3",
   "metadata": {},
   "source": [
    "Oppgaver: \n",
    "\n",
    "I dette prosjektet skal vi gjennomføre oppgaver som fokuserer på oppsett av utviklingsmiljø, innsamling, behandling, analyse, visualisering og prediktiv analyse av miljødata. Oppgave 1 handler om å sette opp et fungerende utviklingsmiljø. Oppgave 2 innebærer å identifisere relevante åpne datakilder og implementere funksjonalitet for å hente data fra disse kildene ved hjelp av Python. I oppgave 3 skal vi utvikle funksjoner for å rense og formatere de innsamlede dataene, med fokus på håndtering av manglende verdier.\n",
    "\n",
    "#### Oppgave 1: Sett opp utviklingsmiljø\n",
    "\n",
    "I VSCode, opprett en ny Jupyter Notebook-fil (med filendelsen «.ipynb») i prosjektmappen. Skriv og kjør kode i den første cellen for å teste at miljøet fungerer som det skal:\n",
    "\n",
    "Gå til [oppgave 1](oppg1.ipynb) \n",
    "\n"
   ]
  },
  {
   "cell_type": "markdown",
   "id": "95d9c533",
   "metadata": {},
   "source": [
    "#### Oppgave 2: Datainnsamling\n",
    "\n",
    "### Hvorfor MET?\n",
    "For dette prosjektet ønsket vi å se på litt ukonvesjonelle data, så vi valgte derfor å se på solskinn varighet. Solskinn kan indikere endringer i skydekke og værmønstre. Det kan også fortelle oss noe om hvor mye solenergi som når bakken som vil påvirke lokal tempratur og som videre kan spille inn på oppvarmingstrender. Spesielt utvikling over tid vil være interessant. \n",
    "\n",
    "Før vi bestemte oss for å undersøke sollys var vi først inne å gjode oss kjent med ulike API grensesnitt. Den som sto fram som et godt valg var 'The MET weather API', mer spesefikt valgte vi Frost API-en deres. Denne gir gratis tilgang til deres arkiv over historiske vær- og klimadata av stor variasjon og med mye detaljer av kvalitetskontrollerte målinger. \n",
    "\n",
    "Les mer her [Hva er Frost?](https://frost.met.no/index.html) og [Om Meteorologisk Institutt](https://www.met.no/en/About-us/About-MET-Norway)\n",
    "\n",
    "De har en fri og åpen data politikk, med ønske om at dataen de samler kan bli brukt fritt til fordel for samfunnet. Deres kontaktinformasjon, til og med en egen nettside [hvordan komme hit](https://www.met.no/en/contact-us/travel-here) er et godt tegn på legitimitet ettersom de er lett å komme i kontakt med. Det er et statlig etat, med formål om å informere med veldokumentert forsking samt nøytralt og saklig språk. Nettsiden er utformet på en overskitlig og profesjonell måte med mange forklaringer, oppslagsverk og dataklarifikasjoner som gjør forståelse og henting av data letter. \n",
    "\n",
    "### Hvorfor CSV-fil?\n",
    "\n",
    "Frost API bruker JSON-format til data, vi valgte å gjør om og lagre i CSV-fil ettersom det er standard for de fleste analyseverktøy og fungerer for eksempel bra med Pandas, Matplotlib og Plotly. Det er også raskt å laste inn og veldig lesbart. \n",
    "\n",
    "Dataen er strukturert slik:"
   ]
  },
  {
   "cell_type": "code",
   "execution_count": 2,
   "id": "0471092c",
   "metadata": {},
   "outputs": [
    {
     "name": "stdout",
     "output_type": "stream",
     "text": [
      "                       date  sunshine_hours\n",
      "0  2016-01-01T00:00:00.000Z             0.9\n",
      "1  2016-01-02T00:00:00.000Z             1.3\n",
      "2  2016-01-03T00:00:00.000Z             3.5\n",
      "3  2016-01-04T00:00:00.000Z             3.6\n",
      "4  2016-01-05T00:00:00.000Z             2.8\n"
     ]
    }
   ],
   "source": [
    "import pandas as pd\n",
    "\n",
    "df = pd.read_csv(\"../data/raa_data_d.csv\", nrows=5)\n",
    "print(df)"
   ]
  },
  {
   "cell_type": "markdown",
   "id": "293ab326",
   "metadata": {},
   "source": [
    "# slett, vurderingskreterier fra mappe:\n",
    "I prosjektet for utvikling av en miljødataanalyseapplikasjon skal dere først identifisere relevante åpne datakilder, som f.eks. API-er fra meteorologiske institutter og miljøovervåkingsorganisasjoner. Deretter skal dere implementere funksjonalitet for å hente data fra disse kildene ved hjelp av Python-moduler (som eks. requests). For å integrere dataene i applikasjonen, bruker dere teknikker som håndtering av tekstfiler, CSV-filer, JSON-data, samt fil- og katalogadministrasjon. I tillegg skal dere benytte dere av list comprehensions, iteratorer og Pandas SQL (sqldf) for å utforske og forstå dataenes struktur og innhold før de forberedes for videre analyse.\n",
    "\n",
    "Vurderingskriterier:\n",
    "\n",
    "Hvilke åpne datakilder er identifisert som relevante for miljødata, og hva er kriteriene (f.eks. kildeautoritet, datakvalitet, tilgjengelighet, brukervennlighet osv.) for å vurdere deres pålitelighet og kvalitet?\n",
    "\n",
    "Hvilke teknikker (f.eks. håndtering av CSV-filer, JSON-data) er valgt å bruke for å lese inn dataene, og hvordan påvirker disse valgene datakvaliteten og prosessen videre?\n",
    "\n",
    "Dersom det er brukt API-er, hvilke spesifikke API-er er valgt å bruke, og hva er de viktigste dataene som kan hentes fra disse kildene?"
   ]
  },
  {
   "cell_type": "markdown",
   "id": "0afe9dc2",
   "metadata": {},
   "source": [
    "#### Oppgave 3: Databehandling"
   ]
  },
  {
   "cell_type": "markdown",
   "id": "5dc4382e",
   "metadata": {},
   "source": [
    "## Slett, vurderingskriterie fra mappe: Oppgave 3: Databehandling\n",
    "Her skal dere fokusere på databehandling ved å utvikle funksjoner som renser og formaterer de innsamlede dataene, med særlig vekt på håndtering av manglende verdier og uregelmessigheter ved hjelp av Pandas. I tillegg skal dere benytte teknikker som list comprehensions, iteratorer, pandas og pandas sql (sqldf) for å manipulere dataene effektivt, noe som vil bidra til å forberede dataene for videre analyse.\n",
    "\n",
    "Vurderingskriterier:\n",
    "\n",
    "Hvilke metoder vil du bruke for å identifisere og håndtere manglende verdier i datasettet?\n",
    "\n",
    "Kan du gi et eksempel på hvordan du vil bruke list comprehensions for å manipulere dataene?\n",
    "\n",
    "Hvordan kan Pandas SQL (sqldf) forbedre datamanipuleringen sammenlignet med tradisjonelle Pandas-operasjoner?\n",
    "\n",
    "Hvilke spesifikke uregelmessigheter i dataene forventer du å møte, og hvordan planlegger du å håndtere dem?"
   ]
  },
  {
   "cell_type": "markdown",
   "id": "189b8beb",
   "metadata": {},
   "source": [
    "Gå tilbake til [← innledningen](miljoanalyseprosjekt.ipynb) eller [del 2 →](del2.ipynb) av prosjektet"
   ]
  }
 ],
 "metadata": {
  "kernelspec": {
   "display_name": "Python 3",
   "language": "python",
   "name": "python3"
  },
  "language_info": {
   "codemirror_mode": {
    "name": "ipython",
    "version": 3
   },
   "file_extension": ".py",
   "mimetype": "text/x-python",
   "name": "python",
   "nbconvert_exporter": "python",
   "pygments_lexer": "ipython3",
   "version": "3.11.9"
  }
 },
 "nbformat": 4,
 "nbformat_minor": 5
}
