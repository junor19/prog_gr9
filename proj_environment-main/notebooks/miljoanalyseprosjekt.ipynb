{
 "cells": [
  {
   "cell_type": "markdown",
   "id": "115c4dbf",
   "metadata": {},
   "source": [
    "## Miljøanalyse prosjekt\n",
    "Målet med dette prosjektet er å utvikle en applikasjon som henter, analyserer og visualiserer miljødata fra åpne kilder.\n",
    "\n",
    "### **Innledning og bakgrunn**\n",
    "I dagens samfunn er det en økende bevissthet rundt miljøspørsmål, drevet av bekymringer om klimaendringer, forurensning og bærekraftig utvikling. For å kunne ta informerte beslutninger og utvikle effektive strategier for å håndtere disse utfordringene, er det avgjørende å ha tilgang til og forståelse av miljødata. Miljødata kan gi innsikt i en rekke faktorer, inkludert værmønstre, luftkvalitet, vannkvalitet og økosystemers helse. Ved å analysere disse dataene kan vi identifisere trender, forutsi fremtidige forhold og utvikle tiltak for å forbedre miljøet. For mer informasjon om dette kan en studere f.eks. IPCC rapporter som gir vurdering av klimaendringer og deres konsekvenser.\n",
    "\n",
    "**Vi har valgt å ta en titt på antall solskinnstimer.** Prosjektet består av to deler, hvor del 1 hovedsaklig omhandler datainnsamling og datahåndtering og del 2 vil inneholde analyser og visualiseringer \n"
   ]
  },
  {
   "cell_type": "markdown",
   "id": "71a93bf6",
   "metadata": {},
   "source": [
    "**Gå tilbake til [README.md](../README.md) eller videre til [del 1 →](del1.ipynb) av prosjektet**"
   ]
  }
 ],
 "metadata": {
  "language_info": {
   "name": "python"
  }
 },
 "nbformat": 4,
 "nbformat_minor": 5
}
