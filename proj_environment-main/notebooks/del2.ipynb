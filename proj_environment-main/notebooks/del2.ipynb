{
 "cells": [
  {
   "cell_type": "markdown",
   "id": "3625333e",
   "metadata": {},
   "source": [
    "Gå tilbake til [← innledningen](miljoanalyseprosjekt.ipynb) eller [← del 1](del1.ipynb) av prosjektet"
   ]
  },
  {
   "cell_type": "markdown",
   "id": "ce256fa9",
   "metadata": {},
   "source": [
    "test for å oppdatere data i git"
   ]
  }
 ],
 "metadata": {
  "language_info": {
   "name": "python"
  }
 },
 "nbformat": 4,
 "nbformat_minor": 5
}
